{
 "cells": [
  {
   "cell_type": "markdown",
   "metadata": {},
   "source": [
    "- type\n",
    "- len\n",
    "- max\n",
    "- min\n",
    "- sum\n",
    "- reversed\n",
    "- sorted\n",
    "- in\n",
    "- not in\n",
    "- index\n",
    "- for loop\n",
    "- mutable\n",
    "- slice\n",
    "- concatination\n",
    "- methods in list"
   ]
  },
  {
   "cell_type": "code",
   "execution_count": 55,
   "metadata": {},
   "outputs": [
    {
     "name": "stdout",
     "output_type": "stream",
     "text": [
      "['A', 'B', 'C', 1, 2, 3, True, True, [1, 2, 3]]\n",
      "<class 'list'>\n",
      "9\n",
      "5\n",
      "1\n",
      "<list_reverseiterator object at 0x000001FA8673DC30>\n",
      "[1, 2, 3, 4, 5]\n",
      "True\n",
      "False\n",
      "4\n",
      "1 4 2 3 5 ---------------\n",
      "[5, 3, 2, 4, 1]\n",
      "[5, 3, 2, 4, 6]\n",
      "[2, 4]\n",
      "[5, 3, 2, 4, 6, 10]\n",
      "[13, 5, 3, 2, 4, 6, 10]\n",
      "[10, 6, 4, 2, 3, 5, 13]\n",
      "1\n"
     ]
    }
   ],
   "source": [
    "data_list = [5, 3, 2, 4, 1]\n",
    "data_list1 = [\"A\", \"B\", \"C\"]\n",
    "data_list2 = [\"A\", \"B\", \"C\", 1, 2, 3, True, True, [1, 2 , 3]] # Valid\n",
    "print(data_list2)\n",
    "\n",
    "\n",
    "print(type(data_list)) # <class 'list'>\n",
    "print(len(data_list2)) # 9\n",
    "print(max(data_list)) # 5\n",
    "\n",
    "print(min(data_list)) # 1\n",
    "print(reversed(data_list)) # [<list_reverseiterator object at 0x000001FA866D4790>]\n",
    "print(sorted(data_list)) # [1, 2, 3, 4, 5]\n",
    "\n",
    "print(1 in data_list) #True\n",
    "print(1 not in data_list) #False\n",
    "print(data_list.index(1)) #4\n",
    "\n",
    "for i in reversed(data_list):\n",
    "    print(i, end= \" \") # 1 4 2 3 5\n",
    "    \n",
    "print(\"---------------\")\n",
    "\n",
    "\n",
    "print(data_list) # [5, 3, 2, 4, 1]\n",
    "data_list[data_list.index(1)] = 6\n",
    "print(data_list) # [5, 3, 2, 4, 6]\n",
    "\n",
    "print(data_list[2:-1:]) # [2, 4]\n",
    "data_list.append(10)\n",
    "print(data_list) # [5, 3, 2, 4, 6, 10]\n",
    "data_list.insert(0, 13)\n",
    "print(data_list) # [13, 5, 3, 2, 4, 6, 10]\n",
    "data_list.reverse()\n",
    "print(data_list) # [10, 6, 4, 2, 3, 5]\n",
    "dir(list)\n",
    "\n",
    "l = [[1]]\n",
    "print(l[0][0]) "
   ]
  },
  {
   "cell_type": "code",
   "execution_count": 14,
   "metadata": {},
   "outputs": [
    {
     "name": "stdout",
     "output_type": "stream",
     "text": [
      "[1, 2, 3, 4, [10, 20, 30]]\n"
     ]
    }
   ],
   "source": [
    "l = [1,2,3, 4]\n",
    "l1 = [10,20,30]\n",
    "l.append(l1) #[1, 2, 3, 4, [10, 20, 30]]\n",
    "l += l1 # [1, 2, 3, 4, 5, 6]\n",
    "\n",
    "print(l)"
   ]
  },
  {
   "cell_type": "code",
   "execution_count": 14,
   "metadata": {},
   "outputs": [
    {
     "name": "stdout",
     "output_type": "stream",
     "text": [
      "[11, 22, 33, 44, 5]\n"
     ]
    }
   ],
   "source": [
    "l1 = [1,2,3, 4, 5]\n",
    "l2 = [10,20,30, 40]\n",
    "\n",
    "\n",
    "def append_sum(l1, l2) :\n",
    "    l3= []\n",
    "    len_l1 = len(l1)\n",
    "    len_l2 = len(l2)\n",
    "    \n",
    "    if(len_l1 == len_l2):\n",
    "        for i in range(len_l1):\n",
    "            l3.append(l1[i] + l2[i])\n",
    "    else:\n",
    "        n = 0\n",
    "        if len_l1 > len_l2:\n",
    "            n =  len_l1\n",
    "            for i in range(n):\n",
    "                if i < len_l2:\n",
    "                    l3.append(l1[i] + l2[i])\n",
    "                else:\n",
    "                    l3.append(l1[i]) \n",
    "        else: \n",
    "            n = len_l2\n",
    "            for i in range(n):\n",
    "                if i < len(l1):\n",
    "                    l3.append(l1[i] + l2[i])\n",
    "                else:\n",
    "                    l3.append(l2[i]) \n",
    "        \n",
    "         \n",
    "    return l3\n",
    "    \n",
    "l3 = append_sum(l1, l2)\n",
    "print(l3) # [11, 22, 33, 44, 5]"
   ]
  },
  {
   "cell_type": "code",
   "execution_count": 13,
   "metadata": {},
   "outputs": [
    {
     "name": "stdout",
     "output_type": "stream",
     "text": [
      "2\n"
     ]
    }
   ],
   "source": [
    "l = [1,2,3, 4, 2]\n",
    "l1 = [10,20,30]\n",
    "l2 = l.append(l1) #[1, 2, 3, 4, [10, 20, 30]] # add\n",
    "l3 = l.extend(l1) #[1, 2, 3, 4, 10, 20, 30] # addAll\n",
    "l += l1 # [1, 2, 3, 4, 10, 20, 30] # addAll\n",
    "l4 = l1.copy() # [10, 20, 30] # clone\n",
    "print(l.count(2))\n",
    "print(l3)"
   ]
  },
  {
   "cell_type": "code",
   "execution_count": 1,
   "metadata": {},
   "outputs": [
    {
     "name": "stdout",
     "output_type": "stream",
     "text": [
      "['can', 'canner', 'can', 'not', 'a', 'can', 'but', 'canner', 'can', 'you', 'make', 'a', 'can']\n",
      "can = 5\n",
      "canner = 2\n",
      "not = 1\n",
      "a = 2\n",
      "but = 1\n",
      "you = 1\n",
      "make = 1\n"
     ]
    }
   ],
   "source": [
    "s = 'can canner can not a can but canner can you make a can'\n",
    "s1 = s.split(\" \")\n",
    "print(s1)\n",
    "l = []\n",
    "for i in s1:\n",
    "    c = 0\n",
    "    for j in s1:\n",
    "        if i == j and i not in l:\n",
    "            c = c + 1\n",
    "    \n",
    "    l.append(i)\n",
    "    if(c > 0):\n",
    "        print(f\"{i} = {c}\")"
   ]
  },
  {
   "cell_type": "code",
   "execution_count": 42,
   "metadata": {},
   "outputs": [
    {
     "name": "stdout",
     "output_type": "stream",
     "text": [
      "evenList: [2, 4]\n",
      "oddList: [1, 3, 5]\n"
     ]
    }
   ],
   "source": [
    "\n",
    "# List Comprehansive\n",
    "\n",
    "\n",
    "l = [i * i for i in range(1,6)] #Map\n",
    "l = [i for i in range(1,6) if i % 2 != 0 ] #Filter\n",
    "\n",
    "# If-Else in one line\n",
    "oddList = []\n",
    "evenList = []\n",
    "[evenList.append(i) if i % 2 == 0 else oddList.append(i) for i in range(1,6) ] \n",
    "print(f\"evenList: {evenList}\")\n",
    "print(f\"oddList: {oddList}\")\n",
    "\n",
    "\n",
    "\n",
    "# Lambda\n",
    "l = list(map(lambda i: i * i, range(1,6))) # [2, 4]\n",
    "l = list(filter(lambda i: i % 2 ==0, range(1,6))) # [2, 4]\n",
    "\n",
    "from functools import reduce\n",
    "l = reduce(lambda x, y: x + y, range(1,11)) # 55\n",
    "\n",
    "\n"
   ]
  },
  {
   "cell_type": "markdown",
   "metadata": {},
   "source": [
    "s = 'can canner can not a can but canner can you make a can'\n",
    "s1 = s.split(\" \")\n",
    "print(s1)\n",
    "l = []\n",
    "for i in s1:\n",
    "    print(f\"{i} = s1.count(i)\")"
   ]
  },
  {
   "cell_type": "code",
   "execution_count": 45,
   "metadata": {},
   "outputs": [
    {
     "name": "stdout",
     "output_type": "stream",
     "text": [
      "['can', 'canner', 'can', 'not', 'a', 'can', 'but', 'canner', 'can', 'you', 'make', 'a', 'can']\n",
      "can = 5\n",
      "canner = 2\n",
      "not = 1\n",
      "a = 2\n",
      "but = 1\n",
      "you = 1\n",
      "make = 1\n"
     ]
    }
   ],
   "source": [
    "s = 'can canner can not a can but canner can you make a can'\n",
    "s1 = s.split(\" \")\n",
    "print(s1)\n",
    "l = []\n",
    "for i in s1:\n",
    "    if(i not in l):\n",
    "        print(f\"{i} = {s1.count(i)}\")\n",
    "        l.append(i)\n",
    "    \n"
   ]
  },
  {
   "cell_type": "code",
   "execution_count": 59,
   "metadata": {},
   "outputs": [
    {
     "name": "stdout",
     "output_type": "stream",
     "text": [
      "B\n",
      "['A', 'C']\n",
      "['C']\n"
     ]
    }
   ],
   "source": [
    "l = [\"A\", \"B\", \"C\"]\n",
    "\n",
    "#i = l.pop()\n",
    "#print(i) # C\n",
    "#print(l) # ['A', 'B']\n",
    "\n",
    "i = l.pop(l.index(\"B\"))\n",
    "print(i) # B\n",
    "print(l) # ['A', 'C']\n",
    "\n",
    "l.remove(\"A\")\n",
    "print(l)\n",
    "\n"
   ]
  },
  {
   "cell_type": "code",
   "execution_count": 1,
   "metadata": {},
   "outputs": [
    {
     "name": "stdout",
     "output_type": "stream",
     "text": [
      "['apple', 'cat', 'dog', 'dog']\n"
     ]
    }
   ],
   "source": [
    "list_values = ['cat', 'dog', 'apple', 'dog']\n",
    "\n",
    "list_values.reverse()\n",
    "\n",
    "def bubble_sort(values):\n",
    "    n = len(values)\n",
    "    for i in range(n-1):\n",
    "      for j in range(n-i-1):\n",
    "        if values[j] > values[j+1]:\n",
    "            temp = values[j]\n",
    "            values[j] = values[j+1]\n",
    "            values[j+1] = temp\n",
    "    \n",
    "\n",
    "bubble_sort(list_values)\n",
    "print(list_values)"
   ]
  },
  {
   "cell_type": "code",
   "execution_count": 14,
   "metadata": {},
   "outputs": [
    {
     "name": "stdout",
     "output_type": "stream",
     "text": [
      "[9, 8, 78, 6, 25, 3]\n",
      "[3, 25, 6, 78, 8, 9]\n",
      "[3, 6, 8, 9, 25, 78]\n",
      "[3, 6, 8, 9, 25, 78]\n"
     ]
    }
   ],
   "source": [
    "list_values = [3, 25, 6, 78, 8, 9]\n",
    "\n",
    "list_values.reverse()\n",
    "\n",
    "print(list_values)\n",
    "print([i for i in reversed(list_values)])\n",
    "\n",
    "\n",
    "list_values.sort()\n",
    "print(list_values)\n",
    "print([i for i in sorted(list_values)])\n"
   ]
  },
  {
   "cell_type": "code",
   "execution_count": 19,
   "metadata": {},
   "outputs": [
    {
     "name": "stdout",
     "output_type": "stream",
     "text": [
      "[25, 6, 78, 8, 9]\n",
      "[6, 78, 8, 9]\n"
     ]
    }
   ],
   "source": [
    "\n",
    "\n",
    "list_values = [3, 25, 6, 78, 8, 9]\n",
    "\n",
    "del(list_values[0])\n",
    "print(list_values) #[25, 6, 78, 8, 9]\n",
    "\n",
    "list_values.remove(25) \n",
    "print(list_values) # [6, 78, 8, 9]\n",
    "\n",
    "\n"
   ]
  },
  {
   "cell_type": "code",
   "execution_count": 34,
   "metadata": {},
   "outputs": [
    {
     "name": "stdout",
     "output_type": "stream",
     "text": [
      "[11, 22, 33, 44]\n"
     ]
    }
   ],
   "source": [
    "l1 = [1,2,3, 4]\n",
    "l2 = [10,20,30, 40]\n",
    "\n",
    "l3 = zip(l1, l2) # [(1, 10), (2, 20), (3, 30), (4, 40)]\n",
    "\n",
    "\n",
    "print([i[0] + i [1] for i in l3])\n"
   ]
  },
  {
   "cell_type": "code",
   "execution_count": 37,
   "metadata": {},
   "outputs": [
    {
     "name": "stdout",
     "output_type": "stream",
     "text": [
      "<class 'tuple'>\n"
     ]
    },
    {
     "ename": "AttributeError",
     "evalue": "'tuple' object has no attribute 'append'",
     "output_type": "error",
     "traceback": [
      "\u001b[1;31m---------------------------------------------------------------------------\u001b[0m",
      "\u001b[1;31mAttributeError\u001b[0m                            Traceback (most recent call last)",
      "Cell \u001b[1;32mIn[37], line 4\u001b[0m\n\u001b[0;32m      2\u001b[0m \u001b[38;5;28mprint\u001b[39m(\u001b[38;5;28mtype\u001b[39m(l1))\n\u001b[0;32m      3\u001b[0m \u001b[38;5;66;03m#l1[0] = 10 # tuple' object does not support item assignment\u001b[39;00m\n\u001b[1;32m----> 4\u001b[0m \u001b[43ml1\u001b[49m\u001b[38;5;241;43m.\u001b[39;49m\u001b[43mappend\u001b[49m(\u001b[38;5;241m10\u001b[39m)\n\u001b[0;32m      5\u001b[0m \u001b[38;5;28mprint\u001b[39m(l1)\n",
      "\u001b[1;31mAttributeError\u001b[0m: 'tuple' object has no attribute 'append'"
     ]
    }
   ],
   "source": [
    "l1 = (1,2,3, 4)\n",
    "\n",
    "print(type(l1))\n",
    "l1[0] = 10 # tuple' object does not support item assignment\n",
    "l1.append(10) # 'tuple' object has no attribute 'append'\n",
    "print(l1)"
   ]
  },
  {
   "cell_type": "code",
   "execution_count": 64,
   "metadata": {},
   "outputs": [
    {
     "name": "stdout",
     "output_type": "stream",
     "text": [
      "[11, 22, 33, 44]\n"
     ]
    }
   ],
   "source": [
    "l1 = [1,2,3, 4]\n",
    "l2 = [10,20,30, 40]\n",
    "\n",
    "l3 = zip(l1, l2) # [(1, 10), (2, 20), (3, 30), (4, 40)]\n",
    "\n",
    "\n",
    "print([i + j for i, j in l3])"
   ]
  },
  {
   "cell_type": "code",
   "execution_count": 31,
   "metadata": {},
   "outputs": [
    {
     "name": "stdout",
     "output_type": "stream",
     "text": [
      "<class 'dict'>\n",
      "{1: 'A', 2: 'B'}\n",
      "1\n",
      "2\n",
      "A\n",
      "B\n",
      "1 = A\n",
      "2 = B\n",
      "A\n",
      "B\n",
      "True\n"
     ]
    }
   ],
   "source": [
    "d1 = {1: \"A\", 2: \"B\"}\n",
    "\n",
    "print(type(d1)) # dict\n",
    "print(d1)\n",
    "\n",
    "# Print all keys\n",
    "for i in d1.keys(): #   for i in d1  this also will give key\n",
    "    print(i)\n",
    "    \n",
    "# Print all values\n",
    "for i in d1.values():\n",
    "    print(i)\n",
    "    \n",
    "# Print all entries\n",
    "for i in d1.items():\n",
    "    print(i[0], \"=\", i[1])\n",
    "    \n",
    "    \n",
    "d2 = {1: \"A\", 2: \"B\"}\n",
    "# Print all values by taking keys\n",
    "for i in d2.keys():\n",
    "    print(d2.get(i))\n",
    "    \n",
    "   \n",
    "dir(d1.pop(1)) # return and remove\n",
    "print(2 in d1) # Check contains key\n",
    "    \n",
    "    "
   ]
  },
  {
   "cell_type": "code",
   "execution_count": 95,
   "metadata": {},
   "outputs": [
    {
     "ename": "TypeError",
     "evalue": "unhashable type: 'list'",
     "output_type": "error",
     "traceback": [
      "\u001b[1;31m---------------------------------------------------------------------------\u001b[0m",
      "\u001b[1;31mTypeError\u001b[0m                                 Traceback (most recent call last)",
      "Cell \u001b[1;32mIn[95], line 1\u001b[0m\n\u001b[1;32m----> 1\u001b[0m d1 \u001b[38;5;241m=\u001b[39m {[\u001b[38;5;241m1\u001b[39m,\u001b[38;5;241m2\u001b[39m]: \u001b[38;5;124m\"\u001b[39m\u001b[38;5;124mA\u001b[39m\u001b[38;5;124m\"\u001b[39m}\n\u001b[0;32m      2\u001b[0m d1\n",
      "\u001b[1;31mTypeError\u001b[0m: unhashable type: 'list'"
     ]
    }
   ],
   "source": [
    "d1 = {[1,2]: \"A\"}\n",
    "d1"
   ]
  },
  {
   "cell_type": "code",
   "execution_count": 9,
   "metadata": {},
   "outputs": [
    {
     "name": "stdout",
     "output_type": "stream",
     "text": [
      "<class 'dict'>\n",
      "<class 'list'>\n",
      "<class 'tuple'>\n",
      "<class 'set'>\n",
      "<class 'tuple'>\n"
     ]
    }
   ],
   "source": [
    "print(type({}))  # <class 'dict'>\n",
    "print(type([]))  # <class 'list'>\n",
    "print(type(()))  # <class 'tuple'>\n",
    "print(type({\"A\"})) # <class 'set'>\n",
    "print(type())\n",
    "    \n"
   ]
  },
  {
   "cell_type": "code",
   "execution_count": 3,
   "metadata": {},
   "outputs": [
    {
     "data": {
      "text/plain": [
       "dict_values(['A', 'B', 'C'])"
      ]
     },
     "execution_count": 3,
     "metadata": {},
     "output_type": "execute_result"
    }
   ],
   "source": [
    "s = \"Hello How Are You\"\n",
    "l = s.split(\" \")\n",
    "s1 = ' '.join(l)"
   ]
  },
  {
   "cell_type": "code",
   "execution_count": 15,
   "metadata": {},
   "outputs": [
    {
     "name": "stdout",
     "output_type": "stream",
     "text": [
      "CBA\n",
      "C B A "
     ]
    }
   ],
   "source": [
    "# How to reverse the string without using method?\n",
    "\n",
    "\n",
    "s = \"ABC\"\n",
    "# print(s[::-1])\n",
    "for i in range(len(s)-1, -1, -1):\n",
    "     print(s[i], end=\" \")"
   ]
  },
  {
   "cell_type": "code",
   "execution_count": 5,
   "metadata": {},
   "outputs": [
    {
     "name": "stdout",
     "output_type": "stream",
     "text": [
      "Hello \n"
     ]
    }
   ],
   "source": [
    "#Write a syntax for string slicing with example.\n",
    "s = \"Hello How Are You\"\n",
    "\n",
    "print(s[0:6:])\n",
    "\n"
   ]
  },
  {
   "cell_type": "code",
   "execution_count": 13,
   "metadata": {},
   "outputs": [
    {
     "name": "stdout",
     "output_type": "stream",
     "text": [
      "H\n",
      "e\n",
      "l\n",
      "l\n",
      "o\n"
     ]
    }
   ],
   "source": [
    "#Whether String is mutable or immutable? Explain with example.\n",
    "\n",
    "s = \"Hello\"\n",
    "\n",
    "for i in range(len(s)):\n",
    "    #s[i] = \"A\" #'str' object does not support item assignment\n",
    "    print(s[i]) "
   ]
  },
  {
   "cell_type": "code",
   "execution_count": 90,
   "metadata": {},
   "outputs": [
    {
     "name": "stdout",
     "output_type": "stream",
     "text": [
      "[{'Nehru', 2500}, {5000, 'Krupa'}, {'Karuna', 7000}]\n"
     ]
    }
   ],
   "source": [
    "# addition = lambda x, y : x + y\n",
    "# print(addition(1, 2))\n",
    "\n",
    "# cube = lambda e : e * e * e\n",
    "# print(cube(5))\n",
    "\n",
    "# average = lambda e1, e2, e3 =20 : round((e1 + e2 + e3) / 3, 2)\n",
    "# print(average(5, 15 ))\n",
    "\n",
    "\n",
    "# max = lambda x, y: x if x > y else y\n",
    "# print(max(10, 20))\n",
    "\n",
    "\n",
    "\n",
    "\n",
    "# l1 = ['hyd', 'blr', 'chennai']\n",
    "# l3 = list(map(lambda e : e.capitalize(), l1))\n",
    "# print(l3)\n",
    "\n",
    "\n",
    "l5 = {\"Raj\":1000, \"Nehru\":2500, \"Krupa\":5000, \"Karuna\":7000, \"Nidhi\":1500}\n",
    "\n",
    "l8 = map(lambda key: {key, l5[key]}, \n",
    "                filter(lambda key: l5[key] >= 2000, l5))\n",
    "\n",
    "print(list(l8)) # [{'Nehru', 2500}, {5000, 'Krupa'}, {'Karuna', 7000}]\n",
    "#print(dict(l8)) # {'Nehru': 2500, 'Krupa': 5000, 'Karuna': 7000}\n",
    "\n",
    "\n",
    "# get names whose sal > 2000\n",
    "\n"
   ]
  },
  {
   "cell_type": "code",
   "execution_count": 91,
   "metadata": {},
   "outputs": [
    {
     "name": "stdout",
     "output_type": "stream",
     "text": [
      "['Nehru', 'Krupa', 'Karuna']\n"
     ]
    }
   ],
   "source": [
    "l5 = {\"Raj\":1000, \"Nehru\":2500, \"Krupa\":5000, \"Karuna\":7000, \"Nidhi\":1500}\n",
    "\n",
    "l8 = list(\n",
    "                filter(\n",
    "                        lambda key: l5[key] >= 2000, l5\n",
    "                    )\n",
    "             \n",
    "          )\n",
    "\n",
    "\n",
    "print(l8)"
   ]
  },
  {
   "cell_type": "code",
   "execution_count": 3,
   "metadata": {},
   "outputs": [
    {
     "name": "stdout",
     "output_type": "stream",
     "text": [
      "{'Nehru': 2500, 5000: 'Krupa', 7000: 'Karuna'}\n"
     ]
    }
   ],
   "source": [
    "\n",
    "l5 = {\"Raj\":1000, \"Nehru\":2500, \"Krupa\":5000, \"Karuna\":7000, \"Nidhi\":1500}\n",
    "\n",
    "l8 = map(lambda key: {key, l5[key]}, \n",
    "                filter(lambda key: l5[key] >= 2000, l5))\n",
    "\n",
    "print(dict(l8))\n"
   ]
  },
  {
   "cell_type": "code",
   "execution_count": null,
   "metadata": {},
   "outputs": [],
   "source": [
    "# C:\\Users\\Happy\\Desktop\\Data Science Rec\\Python\\Projects\\python_fundamentals\\Examples\\datafiles\\mbox-short.txt\n",
    "# Examples\\datafiles\\mbox-short.txt\n",
    "\n",
    "\n",
    "\n"
   ]
  }
 ],
 "metadata": {
  "kernelspec": {
   "display_name": "Python 3",
   "language": "python",
   "name": "python3"
  },
  "language_info": {
   "codemirror_mode": {
    "name": "ipython",
    "version": 3
   },
   "file_extension": ".py",
   "mimetype": "text/x-python",
   "name": "python",
   "nbconvert_exporter": "python",
   "pygments_lexer": "ipython3",
   "version": "3.12.3"
  }
 },
 "nbformat": 4,
 "nbformat_minor": 2
}
