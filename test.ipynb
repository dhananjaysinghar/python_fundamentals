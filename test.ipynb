{
 "cells": [
  {
   "cell_type": "markdown",
   "metadata": {},
   "source": [
    "- type\n",
    "- len\n",
    "- max\n",
    "- min\n",
    "- sum\n",
    "- reversed\n",
    "- sorted\n",
    "- in\n",
    "- not in\n",
    "- index\n",
    "- for loop\n",
    "- mutable\n",
    "- slice\n",
    "- concatination\n",
    "- methods in list"
   ]
  },
  {
   "cell_type": "code",
   "execution_count": 55,
   "metadata": {},
   "outputs": [
    {
     "name": "stdout",
     "output_type": "stream",
     "text": [
      "['A', 'B', 'C', 1, 2, 3, True, True, [1, 2, 3]]\n",
      "<class 'list'>\n",
      "9\n",
      "5\n",
      "1\n",
      "<list_reverseiterator object at 0x000001FA8673DC30>\n",
      "[1, 2, 3, 4, 5]\n",
      "True\n",
      "False\n",
      "4\n",
      "1 4 2 3 5 ---------------\n",
      "[5, 3, 2, 4, 1]\n",
      "[5, 3, 2, 4, 6]\n",
      "[2, 4]\n",
      "[5, 3, 2, 4, 6, 10]\n",
      "[13, 5, 3, 2, 4, 6, 10]\n",
      "[10, 6, 4, 2, 3, 5, 13]\n",
      "1\n"
     ]
    }
   ],
   "source": [
    "data_list = [5, 3, 2, 4, 1]\n",
    "data_list1 = [\"A\", \"B\", \"C\"]\n",
    "data_list2 = [\"A\", \"B\", \"C\", 1, 2, 3, True, True, [1, 2 , 3]] # Valid\n",
    "print(data_list2)\n",
    "\n",
    "\n",
    "print(type(data_list)) # <class 'list'>\n",
    "print(len(data_list2)) # 9\n",
    "print(max(data_list)) # 5\n",
    "\n",
    "print(min(data_list)) # 1\n",
    "print(reversed(data_list)) # [<list_reverseiterator object at 0x000001FA866D4790>]\n",
    "print(sorted(data_list)) # [1, 2, 3, 4, 5]\n",
    "\n",
    "print(1 in data_list) #True\n",
    "print(1 not in data_list) #False\n",
    "print(data_list.index(1)) #4\n",
    "\n",
    "for i in reversed(data_list):\n",
    "    print(i, end= \" \") # 1 4 2 3 5\n",
    "    \n",
    "print(\"---------------\")\n",
    "\n",
    "\n",
    "print(data_list) # [5, 3, 2, 4, 1]\n",
    "data_list[data_list.index(1)] = 6\n",
    "print(data_list) # [5, 3, 2, 4, 6]\n",
    "\n",
    "print(data_list[2:-1:]) # [2, 4]\n",
    "data_list.append(10)\n",
    "print(data_list) # [5, 3, 2, 4, 6, 10]\n",
    "data_list.insert(0, 13)\n",
    "print(data_list) # [13, 5, 3, 2, 4, 6, 10]\n",
    "data_list.reverse()\n",
    "print(data_list) # [10, 6, 4, 2, 3, 5]\n",
    "dir(list)\n",
    "\n",
    "l = [[1]]\n",
    "print(l[0][0]) "
   ]
  },
  {
   "cell_type": "code",
   "execution_count": 14,
   "metadata": {},
   "outputs": [
    {
     "name": "stdout",
     "output_type": "stream",
     "text": [
      "[1, 2, 3, 4, [10, 20, 30]]\n"
     ]
    }
   ],
   "source": [
    "l = [1,2,3, 4]\n",
    "l1 = [10,20,30]\n",
    "l.append(l1) #[1, 2, 3, 4, [10, 20, 30]]\n",
    "l += l1 # [1, 2, 3, 4, 5, 6]\n",
    "\n",
    "print(l)"
   ]
  },
  {
   "cell_type": "code",
   "execution_count": 49,
   "metadata": {},
   "outputs": [
    {
     "name": "stdout",
     "output_type": "stream",
     "text": [
      "[11, 22, 33, 44, 5]\n"
     ]
    }
   ],
   "source": [
    "l1 = [1,2,3, 4, 5]\n",
    "l2 = [10,20,30, 40]\n",
    "\n",
    "\n",
    "def append_sum(l1, l2) :\n",
    "    l3= []\n",
    "    len_l1 = len(l1)\n",
    "    len_l2 = len(l2)\n",
    "    \n",
    "    if(len_l1 == len_l2):\n",
    "        for i in range(len_l1):\n",
    "            l3.append(l1[i] + l2[i])\n",
    "    else:\n",
    "        n = 0\n",
    "        if len_l1 > len_l2:\n",
    "            n =  len_l1\n",
    "            for i in range(n):\n",
    "                if i < len_l2:\n",
    "                    l3.append(l1[i] + l2[i])\n",
    "                else:\n",
    "                    l3.append(l1[i]) \n",
    "        else: \n",
    "            n = len_l2\n",
    "            for i in range(n):\n",
    "                if i < len(l1):\n",
    "                    l3.append(l1[i] + l2[i])\n",
    "                else:\n",
    "                    l3.append(l2[i]) \n",
    "        \n",
    "         \n",
    "    return l3\n",
    "    \n",
    "l3 = append_sum(l1, l2)\n",
    "print(l3)"
   ]
  },
  {
   "cell_type": "code",
   "execution_count": 61,
   "metadata": {},
   "outputs": [
    {
     "name": "stdout",
     "output_type": "stream",
     "text": [
      "[10, 20, 30]\n"
     ]
    }
   ],
   "source": [
    "l = [1,2,3, 4]\n",
    "l1 = [10,20,30]\n",
    "#l.append(l1) #[1, 2, 3, 4, [10, 20, 30]]\n",
    "#l.extend(l1) #[1, 2, 3, 4, 10, 20, 30]\n",
    "#l += l1 # [1, 2, 3, 4, 10, 20, 30]\n",
    "#l = l1.copy() [10, 20, 30]\n",
    "\n",
    "\n",
    "print(l)"
   ]
  }
 ],
 "metadata": {
  "kernelspec": {
   "display_name": "Python 3",
   "language": "python",
   "name": "python3"
  },
  "language_info": {
   "codemirror_mode": {
    "name": "ipython",
    "version": 3
   },
   "file_extension": ".py",
   "mimetype": "text/x-python",
   "name": "python",
   "nbconvert_exporter": "python",
   "pygments_lexer": "ipython3",
   "version": "3.12.3"
  }
 },
 "nbformat": 4,
 "nbformat_minor": 2
}
