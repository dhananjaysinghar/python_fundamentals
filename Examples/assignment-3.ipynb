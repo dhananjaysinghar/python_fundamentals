{
 "cells": [
  {
   "cell_type": "markdown",
   "metadata": {},
   "source": [
    "**# Write a program where the user needs to enter their age. The program will then print whether they are eligible to vote or not?**"
   ]
  },
  {
   "cell_type": "code",
   "execution_count": 2,
   "metadata": {},
   "outputs": [
    {
     "name": "stdout",
     "output_type": "stream",
     "text": [
      "Eligible for Voting\n"
     ]
    }
   ],
   "source": [
    "def isEligibleForVote(age):\n",
    "    if age >= 18:\n",
    "        print(\"Eligible for Voting\")\n",
    "    else: \n",
    "        print(\"Not eligible for Voting\")\n",
    "\n",
    "\n",
    "try:\n",
    "    age = eval(input(\"Enter the age : \"))\n",
    "    isEligibleForVote(age)\n",
    "except Exception as ex:\n",
    "    print(\"Error : \", ex)\n",
    "\n"
   ]
  },
  {
   "cell_type": "markdown",
   "metadata": {},
   "source": [
    "**# Write a Python program that accepts a digit from the keyboard and outputs its name. For example, if the input is 1, the output should be \"1 is one\"**"
   ]
  },
  {
   "cell_type": "code",
   "execution_count": 3,
   "metadata": {},
   "outputs": [
    {
     "name": "stdout",
     "output_type": "stream",
     "text": [
      "Three\n"
     ]
    }
   ],
   "source": [
    "def getDigitInWord(digit):\n",
    "    \n",
    "    if digit == 0:\n",
    "        print(\"Zero\")\n",
    "    elif digit == 1:\n",
    "        print(\"One\")\n",
    "    elif digit == 2:\n",
    "        print(\"Two\")\n",
    "    elif digit == 3:\n",
    "        print(\"Three\")\n",
    "    elif digit == 4:\n",
    "        print(\"Four\")\n",
    "    elif digit == 5:\n",
    "        print(\"Five\")\n",
    "    elif digit == 6:\n",
    "        print(\"Six\")\n",
    "    elif digit == 7:\n",
    "        print(\"Seven\")\n",
    "    elif digit == 8:\n",
    "        print(\"Eight\")\n",
    "    else:\n",
    "        print(\"Nine\")\n",
    "        \n",
    "\n",
    "\n",
    "try:\n",
    "    digit = eval(input(\"Enter a Digit : \"))\n",
    "    getDigitInWord(digit)\n",
    "except Exception as ex:\n",
    "    print(\"Error : \", ex)"
   ]
  },
  {
   "cell_type": "markdown",
   "metadata": {},
   "source": [
    "**# write a program to check whether the last digit of a number (enter by user) is divisible by 3 or not**"
   ]
  },
  {
   "cell_type": "code",
   "execution_count": 9,
   "metadata": {},
   "outputs": [
    {
     "name": "stdout",
     "output_type": "stream",
     "text": [
      "126 last digit is divisible by 3\n"
     ]
    }
   ],
   "source": [
    "def chechLastDigit(num, divisionNum):\n",
    "    try:\n",
    "        last_digit = int(num[-1])\n",
    "        if(last_digit % divisionNum ==0):\n",
    "            print(f\"{num} last digit is divisible by 3\")\n",
    "    except Exception as ex:\n",
    "        print(\"Error: \", ex)\n",
    "    \n",
    "num = input(\"Enter a number : \")\n",
    "chechLastDigit(num, 3)"
   ]
  },
  {
   "cell_type": "markdown",
   "metadata": {},
   "source": [
    "**# write a program to check whether the given year is leap year or not**"
   ]
  },
  {
   "cell_type": "code",
   "execution_count": 16,
   "metadata": {},
   "outputs": [
    {
     "name": "stdout",
     "output_type": "stream",
     "text": [
      "2024 : leap Year\n"
     ]
    }
   ],
   "source": [
    "def isLeapYear():\n",
    "    try: \n",
    "        year = eval(input(\"Enter the year\"))\n",
    "\n",
    "        if year % 4 == 0:\n",
    "            if year % 100 == 0:\n",
    "                if year % 400 == 0:\n",
    "                    print(f\"{year} : leap Year\")\n",
    "                else: \n",
    "                    print(f\"{year} : Not a leap Year\")\n",
    "            else: \n",
    "                print(f\"{year} : leap Year\")\n",
    "        else: \n",
    "            print(f\"{year} : Not a leap Year\")\n",
    "    except Exception as ex:\n",
    "        print(\"Error: \", ex)\n",
    "\n",
    "isLeapYear()"
   ]
  },
  {
   "cell_type": "markdown",
   "metadata": {},
   "source": [
    "**# write a program to check whether a number is prime or not**"
   ]
  },
  {
   "cell_type": "code",
   "execution_count": 23,
   "metadata": {},
   "outputs": [
    {
     "name": "stdout",
     "output_type": "stream",
     "text": [
      "13 is Prime:  True\n"
     ]
    }
   ],
   "source": [
    "def isPrimeNumber(num, divisor):\n",
    "    if num <= 2 :\n",
    "        return num == 2\n",
    "    if(num  %  divisor == 0):\n",
    "         return False\n",
    "    if(divisor * divisor > num):\n",
    "        return True\n",
    "    return isPrimeNumber(num, divisor + 1)\n",
    "\n",
    "\n",
    "try:\n",
    "    num = eval(input(\"Enter a number: {}\"))\n",
    "    print(f\"{num} is Prime: \", isPrimeNumber(num, 2))\n",
    "except Exception as e:\n",
    "    print(f\"Error: {e}\")\n"
   ]
  }
 ],
 "metadata": {
  "kernelspec": {
   "display_name": "Python 3",
   "language": "python",
   "name": "python3"
  },
  "language_info": {
   "codemirror_mode": {
    "name": "ipython",
    "version": 3
   },
   "file_extension": ".py",
   "mimetype": "text/x-python",
   "name": "python",
   "nbconvert_exporter": "python",
   "pygments_lexer": "ipython3",
   "version": "3.12.3"
  }
 },
 "nbformat": 4,
 "nbformat_minor": 2
}
