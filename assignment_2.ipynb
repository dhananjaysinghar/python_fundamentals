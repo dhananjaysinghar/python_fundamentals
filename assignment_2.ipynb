{
 "cells": [
  {
   "cell_type": "markdown",
   "metadata": {},
   "source": [
    "**# Ramesh’s basic salary is input through the keyboard. His dearness allowance is 40% of basic salary, and\n",
    "house rent allowance is 20% of basic salary. Write a program to calculate his gross salary.**"
   ]
  },
  {
   "cell_type": "code",
   "execution_count": 2,
   "metadata": {},
   "outputs": [
    {
     "name": "stdout",
     "output_type": "stream",
     "text": [
      "Basic salary : 10000\n",
      "Dareness Allowance @ 40 % : 4000.0\n",
      "HRA Allowance @ 20 % :2000.0\n",
      "Total Gross Salary 16000.0\n"
     ]
    }
   ],
   "source": [
    "basic_sal = eval(input(\"Enter the basic salary : \"))\n",
    "dareness_allowance = basic_sal * 40 / 100\n",
    "hra_allowance = basic_sal * 20 / 100\n",
    "\n",
    "print(f\"Basic salary : {round(basic_sal, 2)}\")\n",
    "print(f\"Dareness Allowance @ 40 % : {round(dareness_allowance, 2)}\")\n",
    "print(f\"HRA Allowance @ 20 % :{round(hra_allowance, 2)}\")\n",
    "print(f\"Total Gross Salary {round(basic_sal + dareness_allowance + hra_allowance, 2)}\")"
   ]
  },
  {
   "cell_type": "markdown",
   "metadata": {},
   "source": [
    "**# The distance between two cities (in km.) is input through the keyboard. Write a program to convert and print this distance in meters, feet, inches and centimeters.**"
   ]
  },
  {
   "cell_type": "code",
   "execution_count": 3,
   "metadata": {},
   "outputs": [
    {
     "name": "stdout",
     "output_type": "stream",
     "text": [
      "Distance between two cities in kilometer : 2\n",
      "Distance between two cities in meter : 2000\n",
      "Distance between two cities in feet : 6560.0\n",
      "Distance between two cities in inch : 78720.0\n"
     ]
    }
   ],
   "source": [
    "distance_kilometer = eval(input(\"Enter the distance in Kilometer : \"))\n",
    "distance_meter = round(distance_kilometer * 1000, 0)\n",
    "distance_feet = round(distance_meter * 3.28, 2)\n",
    "distance_inch = round(distance_feet * 12, 2)\n",
    "\n",
    "print(f\"Distance between two cities in kilometer : {distance_kilometer}\")\n",
    "print(f\"Distance between two cities in meter : {distance_meter}\")\n",
    "print(f\"Distance between two cities in feet : {distance_feet}\")\n",
    "print(f\"Distance between two cities in inch : {distance_inch}\")"
   ]
  },
  {
   "cell_type": "markdown",
   "metadata": {},
   "source": [
    "**# If the marks obtained by a student in five different subjects are input through the keyboard, find out the aggregate marks and percentage marks obtained by the student. Assume that the maximum marks that can be obtained by a student in each subject is 100.**"
   ]
  },
  {
   "cell_type": "code",
   "execution_count": 9,
   "metadata": {},
   "outputs": [
    {
     "name": "stdout",
     "output_type": "stream",
     "text": [
      "Marks obtained by student\n",
      "First language : 98\n",
      "Second language : 95\n",
      "Third language : 78\n",
      "Math : 85\n",
      "science : 85\n",
      "Total mark 441\n",
      "Percentage is: 88.2 %\n"
     ]
    }
   ],
   "source": [
    "first_language = eval(input(\"Enter the mark of first language: \"))\n",
    "second_language = eval(input(\"Enter the mark of second language: \"))\n",
    "third_language = eval(input(\"Enter the mark of third language: \"))\n",
    "math = eval(input(\"Enter the mark of math: \"))\n",
    "science = eval(input(\"Enter the mark of science: \"))\n",
    "\n",
    "total_mark = first_language + second_language + third_language + math + science\n",
    "full_mark = 100 * 5;\n",
    "\n",
    "print(\"Marks obtained by student\")\n",
    "print(f\"First language : {first_language}\")\n",
    "print(f\"Second language : {second_language}\")\n",
    "print(f\"Third language : {third_language}\")\n",
    "print(f\"Math : {math}\")\n",
    "print(f\"science : {science}\")\n",
    "\n",
    "print(f\"Total mark {total_mark}\")\n",
    "print(f\"Percentage is: {round(total_mark / full_mark * 100, 2)} %\")"
   ]
  },
  {
   "cell_type": "markdown",
   "metadata": {},
   "source": [
    "**# Temperature of a city in Fahrenheit degrees is input through the keyboard. Write a program to convert this temperature into Centigrade degrees.**"
   ]
  },
  {
   "cell_type": "code",
   "execution_count": 15,
   "metadata": {},
   "outputs": [
    {
     "name": "stdout",
     "output_type": "stream",
     "text": [
      "98.6 degree Fahrenheit  = 37.0 degree celsius\n"
     ]
    }
   ],
   "source": [
    "temp_fahrenheit = eval(input(\"Enter the mark of temperature in Fahrenheit: \"))\n",
    "temp_celsius = round(((temp_fahrenheit - 32) * 5)/9 , 2)\n",
    "print(f\"{temp_fahrenheit} degree Fahrenheit  = {temp_celsius} degree celsius\")"
   ]
  },
  {
   "cell_type": "markdown",
   "metadata": {},
   "source": [
    "**# The length &amp; breadth of a rectangle and radius of a circle are input through the keyboard. Write a program to calculate the area &amp; perimeter of the rectangle, and the area circumference of the circle**"
   ]
  },
  {
   "cell_type": "code",
   "execution_count": 16,
   "metadata": {},
   "outputs": [
    {
     "name": "stdout",
     "output_type": "stream",
     "text": [
      "area of length 10 and breadth: 20 is 200 and perimeter: 60\n"
     ]
    }
   ],
   "source": [
    "length = eval(input(\"Enter the length: \"))\n",
    "breadth = eval(input(\"Enter the breadth: \"))\n",
    "area = length * breadth\n",
    "perimeter = 2 * (length + breadth)\n",
    "print(f\"area of length {length} and breadth: {breadth} is {round(area, 2)} and perimeter: {round(perimeter, 2)}\")"
   ]
  },
  {
   "cell_type": "code",
   "execution_count": 17,
   "metadata": {},
   "outputs": [
    {
     "name": "stdout",
     "output_type": "stream",
     "text": [
      "The area of the circle with radius 5 is 78.54\n"
     ]
    }
   ],
   "source": [
    "import math\n",
    "input_radius = eval(input(\"Enter the radius : \"))\n",
    "area = math.pi * input_radius * input_radius\n",
    "print(f\"The area of the circle with radius {input_radius} is {round(area, 2)}\")"
   ]
  },
  {
   "cell_type": "markdown",
   "metadata": {},
   "source": [
    "**# Two numbers are input through the keyboard into two locations C and D. Write a program to interchange the contents of C and D.**"
   ]
  },
  {
   "cell_type": "code",
   "execution_count": 18,
   "metadata": {},
   "outputs": [
    {
     "name": "stdout",
     "output_type": "stream",
     "text": [
      "Before interchanging the value first location: Delhi and second location : Mumbai\n",
      "After interchanging the value first location: Mumbai and second location : Delhi\n"
     ]
    }
   ],
   "source": [
    "location_c = input(\"Enter the first location name\")\n",
    "location_d = input(\"Enter the second location name\")\n",
    "\n",
    "print(f\"Before interchanging the value first location: {location_c} and second location : {location_d}\")\n",
    "temp_location = location_c\n",
    "location_c = location_d\n",
    "location_d = temp_location\n",
    "print(f\"After interchanging the value first location: {location_c} and second location : {location_d}\")"
   ]
  },
  {
   "cell_type": "markdown",
   "metadata": {},
   "source": [
    "**# If a five-digit number is input through the keyboard, write a program to reverse the number.**"
   ]
  },
  {
   "cell_type": "code",
   "execution_count": 31,
   "metadata": {},
   "outputs": [
    {
     "name": "stdout",
     "output_type": "stream",
     "text": [
      "Entered value is :  56327\n",
      "Reversed Number : 72365\n"
     ]
    }
   ],
   "source": [
    "number = input(\"Enter a five-digit number:\")\n",
    "print(\"Entered value is : \", number)\n",
    "if(len(number) == 5 and number.isdigit()):\n",
    "    reverse_number = number[::-1]\n",
    "    print(\"Reversed Number :\", reverse_number)\n",
    "else:\n",
    "    print(\"Not a 5 digit number\")"
   ]
  },
  {
   "cell_type": "markdown",
   "metadata": {},
   "source": [
    "**# If a four-digit number is input through the keyboard, write a program to obtain the sum of the first and last digit of this number.**"
   ]
  },
  {
   "cell_type": "code",
   "execution_count": 34,
   "metadata": {},
   "outputs": [
    {
     "name": "stdout",
     "output_type": "stream",
     "text": [
      "Entered value is :  2654\n",
      "Sum of first and last digit =  6\n"
     ]
    }
   ],
   "source": [
    "number = input(\"Enter a four-digit number:\")\n",
    "print(\"Entered value is : \", number)\n",
    "if(len(number) == 4 and number.isdigit()):\n",
    "    first_digit = int(number[0])\n",
    "    last_digit = int(number[3])\n",
    "    # first_digit = int(number[-4])\n",
    "    # last_digit = int(number[-1])\n",
    "    print(\"Sum of first and last digit = \", first_digit + last_digit)\n",
    "else:\n",
    "    print(\"Not a 4 digit number\")"
   ]
  },
  {
   "cell_type": "markdown",
   "metadata": {},
   "source": [
    "**# In a town, the percentage of maen is 52. The percentage of total literacy is 48. If total percentage of literate men is 35 of the total population, write a program to find the total number of illiterate men and women if the population of the town is 80,000.**"
   ]
  },
  {
   "cell_type": "code",
   "execution_count": 35,
   "metadata": {},
   "outputs": [
    {
     "name": "stdout",
     "output_type": "stream",
     "text": [
      "total_population : 80000\n",
      "men_count : 41600.0\n",
      "total_literacy : 38400.0\n",
      "men_literacy : 28000.0\n",
      "women_literacy : 10400.0\n"
     ]
    }
   ],
   "source": [
    "total_population = 80000\n",
    "men_count = total_population * 52 /100\n",
    "total_literacy = total_population * 48 /100\n",
    "men_literacy = total_population * 35 /100\n",
    "\n",
    "print(f\"total_population : {total_population}\")\n",
    "print(f\"men_count : {men_count}\")\n",
    "print(f\"total_literacy : {total_literacy}\")\n",
    "print(f\"men_literacy : {men_literacy}\")\n",
    "print(f\"women_literacy : {total_literacy - men_literacy}\")"
   ]
  },
  {
   "cell_type": "markdown",
   "metadata": {},
   "source": [
    "**# A cashier has currency notes of denominations 10, 50 and 100. If the amount to be withdrawn is input through the keyboard in hundreds, find the total number of currency notes of each denomination the cashier will have to give to the withdrawer.**"
   ]
  },
  {
   "cell_type": "code",
   "execution_count": 45,
   "metadata": {},
   "outputs": [
    {
     "name": "stdout",
     "output_type": "stream",
     "text": [
      "note_100 :  2\n",
      "note_50 :  1\n",
      "note_10 :  1\n"
     ]
    }
   ],
   "source": [
    "withdraw_amount_hundreds = eval(input(\"Enter thye amount to be withdrawn in hundreds : \"))\n",
    "\n",
    "note_100 = withdraw_amount_hundreds // 100\n",
    "\n",
    "if(note_100 > 0) :\n",
    "    print(\"note_100 : \", note_100)\n",
    "\n",
    "remaining_amount = withdraw_amount_hundreds % 100\n",
    "note_50 = remaining_amount // 50\n",
    "\n",
    "if(note_50 > 0) :\n",
    "    print(\"note_50 : \", note_50)\n",
    "\n",
    "remaining_amount = withdraw_amount_hundreds % 50\n",
    "note_10 = remaining_amount // 10\n",
    "if(note_10 > 0) :\n",
    "    print(\"note_10 : \", note_10)"
   ]
  }
 ],
 "metadata": {
  "kernelspec": {
   "display_name": "Python 3",
   "language": "python",
   "name": "python3"
  },
  "language_info": {
   "codemirror_mode": {
    "name": "ipython",
    "version": 3
   },
   "file_extension": ".py",
   "mimetype": "text/x-python",
   "name": "python",
   "nbconvert_exporter": "python",
   "pygments_lexer": "ipython3",
   "version": "3.12.3"
  }
 },
 "nbformat": 4,
 "nbformat_minor": 2
}
