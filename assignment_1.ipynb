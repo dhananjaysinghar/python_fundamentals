{
 "cells": [
  {
   "cell_type": "markdown",
   "metadata": {},
   "source": [
    "**1. Ask the user to enter a number and print out the square of the number.**\n",
    "\n",
    "Sample output is shown below\n",
    "\n",
    "Input: Enter a number: 5 \n",
    "\n",
    "Output:The square of 5 is 25."
   ]
  },
  {
   "cell_type": "code",
   "execution_count": 3,
   "metadata": {},
   "outputs": [
    {
     "name": "stdout",
     "output_type": "stream",
     "text": [
      "The square of 5 is 25\n"
     ]
    }
   ],
   "source": [
    "import math\n",
    "\n",
    "user_input = eval(input(\"Enter a number : \"))\n",
    "square_value = round(math.pow(user_input, 2))\n",
    "\n",
    "print(f\"The square of {user_input} is {square_value}\")"
   ]
  },
  {
   "cell_type": "markdown",
   "metadata": {},
   "source": [
    "**2. Ask the user to enter a number x. print out x, 2x, 3x, 4x, and 5x, each separated by three dashes, like below**\n",
    "\n",
    "Input: Enter a number: 7 \n",
    "\n",
    "Output: 7---14---21---28---35"
   ]
  },
  {
   "cell_type": "code",
   "execution_count": 4,
   "metadata": {},
   "outputs": [
    {
     "name": "stdout",
     "output_type": "stream",
     "text": [
      "7---14---21---28---35\n"
     ]
    }
   ],
   "source": [
    "user_input = eval(input(\"Enter a number : \"))\n",
    "\n",
    "x1 = user_input;\n",
    "x2 = user_input * 2;\n",
    "x3 = user_input * 3;\n",
    "x4 = user_input * 4;\n",
    "x5 = user_input * 5;\n",
    "\n",
    "print(f\"{x1}---{x2}---{x3}---{x4}---{x5}\")"
   ]
  },
  {
   "cell_type": "markdown",
   "metadata": {},
   "source": [
    "**3. Write a program that asks the user for a weight in kilograms and converts it to pounds. There are 2.2 pounds in a kilogram.**"
   ]
  },
  {
   "cell_type": "code",
   "execution_count": 9,
   "metadata": {},
   "outputs": [
    {
     "name": "stdout",
     "output_type": "stream",
     "text": [
      "1.5 Kilo is 3.3 pound\n"
     ]
    }
   ],
   "source": [
    "user_input = eval(input(\"Enter the weight : \"))\n",
    "weight_pound = round(2.2 * user_input, 2)\n",
    "\n",
    "print(f\"{user_input} Kilo is {weight_pound} pound\")"
   ]
  },
  {
   "cell_type": "markdown",
   "metadata": {},
   "source": [
    "**4. Write a program to find the average of 3 input numbers**"
   ]
  },
  {
   "cell_type": "code",
   "execution_count": 16,
   "metadata": {},
   "outputs": [
    {
     "name": "stdout",
     "output_type": "stream",
     "text": [
      "The average of 10 & 12 & 25 is 15.67\n"
     ]
    }
   ],
   "source": [
    "num1 = eval(input(\"Enter the 1st number : \"))\n",
    "num2 = eval(input(\"Enter the 2nd number : \"))\n",
    "num3 = eval(input(\"Enter the 3rd number : \"))\n",
    "\n",
    "avg = round((num1 + num2 + num3) / 3, 2)\n",
    "\n",
    "print(f\"The average of {num1} & {num2} & {num3} is {avg}\")"
   ]
  },
  {
   "cell_type": "markdown",
   "metadata": {},
   "source": [
    "**5. Ask the user for the price of the meal and the percent tip they want to leave. Then print both the tip amount and the total bill with the tip included.**"
   ]
  },
  {
   "cell_type": "code",
   "execution_count": 15,
   "metadata": {},
   "outputs": [
    {
     "name": "stdout",
     "output_type": "stream",
     "text": [
      "Bill Amount is 2000 and tip % is 2, total amount you need to pay : 2040.0\n"
     ]
    }
   ],
   "source": [
    "bill_amount = eval(input(\"Enter Bill Amount : \"))\n",
    "tip_percentage = eval(input(\"Tip % : \"))\n",
    "\n",
    "tipAmount = (bill_amount * tip_percentage) / 100\n",
    "totalBill = bill_amount + tipAmount\n",
    "\n",
    "print(f\"Bill Amount is {bill_amount} and tip % is {tip_percentage}, total amount you need to pay : {round(totalBill, 2)}\")"
   ]
  },
  {
   "cell_type": "markdown",
   "metadata": {},
   "source": [
    "**6. Create a story by using print and input keywords, You need to develop a python code same like below steps.**\n",
    "\n",
    "- Step-1: Father: Hey Baby!\n",
    "- Step-2: Daughter: Hello Dady \n",
    "- Step-3: Father: I heard your exams are over, what about result \n",
    "- Step-4: Daughter: Yes dad! Results are out\n",
    "- Step-5: Father: what is the percentage? \n",
    "- Step-6: Daughter: I will give my subject wise marks , you tell me the percentage \n",
    "- Step-7: Father : Okay! \n",
    "- Step-8: First Language: 80 \n",
    "- Step-9: Second language: 90\n",
    "- Step-10: Third language:90 \n",
    "- Step-11: Maths:85 \n",
    "- Step-12: Science: 80 \n",
    "- Step-13: Daughter: Dad Now tell me how much percentage I got \n",
    "- Step-14: Father: Tell me the max marks of each subject \n",
    "- Step-15: Daughter: its 100 \n",
    "- Step-16: calculate the percentage of marks and print it"
   ]
  },
  {
   "cell_type": "code",
   "execution_count": 1,
   "metadata": {},
   "outputs": [
    {
     "name": "stdout",
     "output_type": "stream",
     "text": [
      "Father: Hey Baby!\n",
      "Daughter: Hello Dady\n",
      "Father: I heard your exams are over, what about result \n",
      "Daughter: Yes dad! Results are out\n",
      "Father: what is the percentage?\n",
      "Daughter: I will give my subject wise marks , you tell me the percentage\n",
      "Father : Okay!\n",
      "First Language : 80\n",
      "Second Language : 90\n",
      "Third Language : 90\n",
      "Math : 85\n",
      "Science : 80\n",
      "Daughter: Dad Now tell me how much percentage I got\n",
      "Father: Tell me the max marks of each subject\n",
      "Daughter: its 100\n",
      "First Language % : 80.0\n",
      "Second Language % : 90.0\n",
      "Third Language % : 90.0\n",
      "Math % : 85.0\n",
      "Science % : 80.0\n"
     ]
    }
   ],
   "source": [
    "print(\"Father: Hey Baby!\")\n",
    "print(\"Daughter: Hello Dady\")\n",
    "print(\"Father: I heard your exams are over, what about result \")\n",
    "print(\"Daughter: Yes dad! Results are out\")\n",
    "print(\"Father: what is the percentage?\")\n",
    "print(\"Daughter: I will give my subject wise marks , you tell me the percentage\")\n",
    "print(\"Father : Okay!\")\n",
    "\n",
    "mark_first_language = eval(input(\"First Language : \"))\n",
    "print(f\"First Language : {mark_first_language}\")\n",
    "\n",
    "mark_second_language = eval(input(\"Second Language : \"))\n",
    "print(f\"Second Language : {mark_second_language}\")\n",
    "\n",
    "mark_third_language = eval(input(\"Third Language : \"))\n",
    "print(f\"Third Language : {mark_third_language}\")\n",
    "\n",
    "mark_math = eval(input(\"Math : \"))\n",
    "print(f\"Math : {mark_math}\")\n",
    "\n",
    "mark_science = eval(input(\"Science : \"))\n",
    "print(f\"Science : {mark_science}\")\n",
    "\n",
    "print(\"Daughter: Dad Now tell me how much percentage I got\")\n",
    "print(\"Father: Tell me the max marks of each subject\")\n",
    "\n",
    "mark_max_each_sub = eval(input(\"Tell me the max marks of each subject\"))\n",
    "print(f\"Daughter: its {mark_max_each_sub}\")\n",
    "\n",
    "print(f\"First Language % : {round((mark_first_language / mark_max_each_sub) * mark_max_each_sub, 2)}\")\n",
    "print(f\"Second Language % : {round((mark_second_language / mark_max_each_sub) * mark_max_each_sub, 2)}\")\n",
    "print(f\"Third Language % : {round((mark_third_language / mark_max_each_sub) * mark_max_each_sub, 2)}\")\n",
    "print(f\"Math % : {round((mark_math / mark_max_each_sub) * mark_max_each_sub, 2)}\")\n",
    "print(f\"Science % : {round((mark_science / mark_max_each_sub) * mark_max_each_sub, 2)}\")\n",
    "\n"
   ]
  }
 ],
 "metadata": {
  "kernelspec": {
   "display_name": "Python 3",
   "language": "python",
   "name": "python3"
  },
  "language_info": {
   "codemirror_mode": {
    "name": "ipython",
    "version": 3
   },
   "file_extension": ".py",
   "mimetype": "text/x-python",
   "name": "python",
   "nbconvert_exporter": "python",
   "pygments_lexer": "ipython3",
   "version": "3.12.3"
  }
 },
 "nbformat": 4,
 "nbformat_minor": 2
}
