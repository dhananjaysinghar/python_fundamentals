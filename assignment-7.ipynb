{
 "cells": [
  {
   "cell_type": "markdown",
   "metadata": {},
   "source": [
    "**# 1)WAP ask the user print the square of the numbers from 1 to 5**"
   ]
  },
  {
   "cell_type": "code",
   "execution_count": 3,
   "metadata": {},
   "outputs": [
    {
     "name": "stdout",
     "output_type": "stream",
     "text": [
      "square of 1 is 1.0\n",
      "square of 2 is 4.0\n",
      "square of 3 is 9.0\n",
      "square of 4 is 16.0\n",
      "square of 5 is 25.0\n"
     ]
    }
   ],
   "source": [
    "import math\n",
    "i = 1\n",
    "while i < 6:\n",
    "   print(f\"square of {i} is {math.pow(i, 2)}\")\n",
    "   i = i +1"
   ]
  },
  {
   "cell_type": "markdown",
   "metadata": {},
   "source": [
    "**# 2)WAP ask the user take 5 random numbers between 10 to 100 and print the square of the random numbers**\n"
   ]
  },
  {
   "cell_type": "code",
   "execution_count": 7,
   "metadata": {},
   "outputs": [
    {
     "name": "stdout",
     "output_type": "stream",
     "text": [
      "square of 12 is 144.0\n",
      "square of 32 is 1024.0\n",
      "square of 59 is 3481.0\n",
      "square of 16 is 256.0\n",
      "square of 84 is 7056.0\n"
     ]
    }
   ],
   "source": [
    "import math\n",
    "import random\n",
    "\n",
    "i = 1\n",
    "while i < 6:\n",
    "   num = random.randint(10, 100)\n",
    "   print(f\"square of {num} is {math.pow(num, 2)}\")\n",
    "   i = i +1"
   ]
  },
  {
   "cell_type": "markdown",
   "metadata": {},
   "source": [
    "**# 3) Create a function on reuse code lines call that function inside the for loop**"
   ]
  },
  {
   "cell_type": "code",
   "execution_count": 9,
   "metadata": {},
   "outputs": [
    {
     "name": "stdout",
     "output_type": "stream",
     "text": [
      "square of 64 is 4096.0\n",
      "square of 71 is 5041.0\n",
      "square of 66 is 4356.0\n",
      "square of 53 is 2809.0\n",
      "square of 86 is 7396.0\n"
     ]
    }
   ],
   "source": [
    "import math\n",
    "import random\n",
    "\n",
    "def square_random_number():\n",
    "    num = random.randint(10, 100)\n",
    "    print(f\"square of {num} is {math.pow(num, 2)}\")\n",
    "    \n",
    "    \n",
    "i = 1\n",
    "while i < 6:\n",
    "    square_random_number()\n",
    "    i = i + 1\n",
    "   \n",
    "   \n"
   ]
  },
  {
   "cell_type": "markdown",
   "metadata": {},
   "source": [
    "**# 4)wap ask the user print the even or odd values between 11 to 21**"
   ]
  },
  {
   "cell_type": "code",
   "execution_count": 12,
   "metadata": {},
   "outputs": [
    {
     "name": "stdout",
     "output_type": "stream",
     "text": [
      "11 is an odd number\n",
      "12 is an even number\n",
      "13 is an odd number\n",
      "14 is an even number\n",
      "15 is an odd number\n",
      "16 is an even number\n",
      "17 is an odd number\n",
      "18 is an even number\n",
      "19 is an odd number\n",
      "20 is an even number\n",
      "21 is an odd number\n"
     ]
    }
   ],
   "source": [
    "i = 11\n",
    "while i < 22:\n",
    "    if(i % 2 == 0):\n",
    "        print(f\"{i} is an even number\")\n",
    "    else:\n",
    "        print(f\"{i} is an odd number\")\n",
    "    i = i + 1\n",
    "   "
   ]
  },
  {
   "cell_type": "markdown",
   "metadata": {},
   "source": [
    "**# 5)wap ask the user enter a value from keyboard 5 times print that value is even or odd**"
   ]
  },
  {
   "cell_type": "code",
   "execution_count": 13,
   "metadata": {},
   "outputs": [
    {
     "name": "stdout",
     "output_type": "stream",
     "text": [
      "5 is an odd number\n",
      "6 is an even number\n",
      "2 is an even number\n",
      "5 is an odd number\n",
      "9 is an odd number\n"
     ]
    }
   ],
   "source": [
    "count = 0\n",
    "while count < 5:\n",
    "    i = eval(input(\"Enter a number: \"))\n",
    "    if(i % 2 == 0):\n",
    "        print(f\"{i} is an even number\")\n",
    "    else:\n",
    "        print(f\"{i} is an odd number\")\n",
    "    count = count + 1"
   ]
  },
  {
   "cell_type": "markdown",
   "metadata": {},
   "source": [
    "**#6)Wap to create 9th table**"
   ]
  },
  {
   "cell_type": "code",
   "execution_count": 15,
   "metadata": {},
   "outputs": [
    {
     "name": "stdout",
     "output_type": "stream",
     "text": [
      "9 X 1 = 9\n",
      "9 X 2 = 18\n",
      "9 X 3 = 27\n",
      "9 X 4 = 36\n",
      "9 X 5 = 45\n",
      "9 X 6 = 54\n",
      "9 X 7 = 63\n",
      "9 X 8 = 72\n",
      "9 X 9 = 81\n",
      "9 X 10 = 90\n"
     ]
    }
   ],
   "source": [
    "count = 1\n",
    "num = eval(input(\"Enter a number: \"))\n",
    "while count < 11:\n",
    "    print(f\"{num} X {count} = {num * count}\")\n",
    "    count = count + 1"
   ]
  },
  {
   "cell_type": "markdown",
   "metadata": {},
   "source": [
    "**#7Q) WAP to print the divisiors of number 50**"
   ]
  },
  {
   "cell_type": "code",
   "execution_count": 17,
   "metadata": {},
   "outputs": [
    {
     "name": "stdout",
     "output_type": "stream",
     "text": [
      "1 is divisor of 50\n",
      "2 is divisor of 50\n",
      "5 is divisor of 50\n",
      "10 is divisor of 50\n",
      "25 is divisor of 50\n",
      "50 is divisor of 50\n"
     ]
    }
   ],
   "source": [
    "count = 1\n",
    "while count <= 50:\n",
    "    if(50 % count == 0):\n",
    "        print(f\"{count} is divisor of 50\")\n",
    "    count = count + 1"
   ]
  },
  {
   "cell_type": "markdown",
   "metadata": {},
   "source": [
    "**#Q8) WAP print the sum of first 10 natural numbers**"
   ]
  },
  {
   "cell_type": "code",
   "execution_count": 18,
   "metadata": {},
   "outputs": [
    {
     "name": "stdout",
     "output_type": "stream",
     "text": [
      "55\n"
     ]
    }
   ],
   "source": [
    "sum_value = 0\n",
    "count = 1\n",
    "while count <= 10:\n",
    "    sum_value = sum_value + count\n",
    "    count = count + 1\n",
    "\n",
    "print(sum_value)"
   ]
  },
  {
   "cell_type": "markdown",
   "metadata": {},
   "source": [
    "**#9Q) How many divisors are availble for 50**"
   ]
  },
  {
   "cell_type": "code",
   "execution_count": 19,
   "metadata": {},
   "outputs": [
    {
     "name": "stdout",
     "output_type": "stream",
     "text": [
      "Total 6 divisors of 50\n"
     ]
    }
   ],
   "source": [
    "count = 1\n",
    "divisor_count = 0\n",
    "while count <= 50:\n",
    "    if(50 % count == 0):\n",
    "        divisor_count = divisor_count + 1\n",
    "    count = count + 1\n",
    "    \n",
    "print(f\"Total {divisor_count} divisors of 50\")"
   ]
  },
  {
   "cell_type": "code",
   "execution_count": 24,
   "metadata": {},
   "outputs": [
    {
     "name": "stdout",
     "output_type": "stream",
     "text": [
      "Lost with num1: 4 & num2: 8, chances left 4\n",
      "Lost with num1: 5 & num2: 3, chances left 3\n",
      "Lost with num1: 6 & num2: 10, chances left 2\n",
      "Lost with num1: 3 & num2: 6, chances left 1\n",
      "Lost with num1: 1 & num2: 5, chances left 0\n",
      "Account has blocked for 24 hrs\n"
     ]
    }
   ],
   "source": [
    "import random\n",
    "def play():\n",
    "    try:\n",
    "        failure_count = 0\n",
    "        while True:\n",
    "            if failure_count == 5 :\n",
    "                print(\"Account has blocked for 24 hrs\")\n",
    "                break\n",
    "            num1 = eval(input(\"Enter a digit : \"))\n",
    "            num2 = random.randint(1,10)\n",
    "            if num1 != num2:\n",
    "                failure_count = failure_count + 1\n",
    "                print(f\"Lost with num1: {num1} & num2: {num2}, chances left {5 - failure_count}\")\n",
    "            else:\n",
    "                print(f\"Win with num1: {num1} & num2: {num2}\")\n",
    "                break;\n",
    "    except Exception as ex:\n",
    "        print(f\"Error Occurred: {ex}\")\n",
    "\n",
    "\n",
    "play()"
   ]
  }
 ],
 "metadata": {
  "kernelspec": {
   "display_name": "Python 3",
   "language": "python",
   "name": "python3"
  },
  "language_info": {
   "codemirror_mode": {
    "name": "ipython",
    "version": 3
   },
   "file_extension": ".py",
   "mimetype": "text/x-python",
   "name": "python",
   "nbconvert_exporter": "python",
   "pygments_lexer": "ipython3",
   "version": "3.12.3"
  }
 },
 "nbformat": 4,
 "nbformat_minor": 2
}
