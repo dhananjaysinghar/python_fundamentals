{
 "cells": [
  {
   "cell_type": "markdown",
   "metadata": {},
   "source": [
    "**Sort the list without using sort method.**"
   ]
  },
  {
   "cell_type": "code",
   "execution_count": 22,
   "metadata": {},
   "outputs": [
    {
     "name": "stdout",
     "output_type": "stream",
     "text": [
      "['apple', 'cat', 'dog', 'dog']\n"
     ]
    }
   ],
   "source": [
    "list_values = ['cat', 'dog', 'apple', 'dog']\n",
    "\n",
    "def sort(values):\n",
    "    n = len(values)\n",
    "    for i in range(n-1):\n",
    "      for j in range(n-i-1):\n",
    "        if values[j] > values[j+1]:\n",
    "            temp = values[j]\n",
    "            values[j] = values[j+1]\n",
    "            values[j+1] = temp\n",
    "    \n",
    "\n",
    "sort(list_values)\n",
    "print(list_values)\n"
   ]
  },
  {
   "cell_type": "markdown",
   "metadata": {},
   "source": [
    "**Merge two list by adding index values**"
   ]
  },
  {
   "cell_type": "code",
   "execution_count": null,
   "metadata": {},
   "outputs": [],
   "source": [
    "l1 = [1,2,3, 4, 5]\n",
    "l2 = [10,20,30, 40]\n",
    "\n",
    "\n",
    "def append_sum(l1, l2) :\n",
    "    l3= []\n",
    "    len_l1 = len(l1)\n",
    "    len_l2 = len(l2)\n",
    "    \n",
    "    if(len_l1 == len_l2):\n",
    "        for i in range(len_l1):\n",
    "            l3.append(l1[i] + l2[i])\n",
    "    else:\n",
    "        n = 0\n",
    "        if len_l1 > len_l2:\n",
    "            n =  len_l1\n",
    "            for i in range(n):\n",
    "                if i < len_l2:\n",
    "                    l3.append(l1[i] + l2[i])\n",
    "                else:\n",
    "                    l3.append(l1[i]) \n",
    "        else: \n",
    "            n = len_l2\n",
    "            for i in range(n):\n",
    "                if i < len(l1):\n",
    "                    l3.append(l1[i] + l2[i])\n",
    "                else:\n",
    "                    l3.append(l2[i]) \n",
    "        \n",
    "    return l3\n",
    "    \n",
    "l3 = append_sum(l1, l2)\n",
    "print(l3) # [11, 22, 33, 44, 5]"
   ]
  }
 ],
 "metadata": {
  "kernelspec": {
   "display_name": "Python 3",
   "language": "python",
   "name": "python3"
  },
  "language_info": {
   "codemirror_mode": {
    "name": "ipython",
    "version": 3
   },
   "file_extension": ".py",
   "mimetype": "text/x-python",
   "name": "python",
   "nbconvert_exporter": "python",
   "pygments_lexer": "ipython3",
   "version": "3.12.3"
  }
 },
 "nbformat": 4,
 "nbformat_minor": 2
}
