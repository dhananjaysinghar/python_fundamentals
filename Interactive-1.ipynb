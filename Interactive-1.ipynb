{
 "cells": [
  {
   "cell_type": "code",
   "execution_count": 2,
   "metadata": {
    "ExecuteTime": {
     "end_time": "2024-06-11T03:45:33.215688Z",
     "start_time": "2024-06-11T03:45:26.114603Z"
    }
   },
   "outputs": [
    {
     "name": "stdout",
     "output_type": "stream",
     "text": [
      "Average of 12, 23, 12 = 15.67\n"
     ]
    }
   ],
   "source": [
    "\n",
    "# Average without arguments\n",
    "\n",
    "def average(): \n",
    "    try:\n",
    "        num1 = eval(input(\"Enter the First Number\"))\n",
    "        num2 = eval(input(\"Enter the Second Number\"))\n",
    "        num3 = eval(input(\"Enter the Third Number\"))\n",
    "        avg = (num1 + num2+ num3) / 3\n",
    "        print(f\"Average of {num1}, {num2}, {num3} = {round(avg, 2)}\")\n",
    "    except Exception as ex: \n",
    "        print(\"Error: \",ex)\n",
    "    \n",
    "    \n",
    "average()"
   ]
  },
  {
   "cell_type": "code",
   "execution_count": 19,
   "metadata": {},
   "outputs": [
    {
     "name": "stdout",
     "output_type": "stream",
     "text": [
      "Error: name 'python' is not defined\n"
     ]
    }
   ],
   "source": [
    "# Average with arguments\n",
    "\n",
    "def average(num1, num2, num3): \n",
    "    avg = round((num1 + num2+ num3) / 3, 2)\n",
    "    print(f\"Average of {num1}, {num2}, {num3} = {avg}\")8\n",
    "    \n",
    "\n",
    "  \n",
    " \n",
    "try:        \n",
    "    num1 = eval(input(\"Enter the First Number\"))\n",
    "    num2 = eval(input(\"Enter the Second Number\"))\n",
    "    num3 = eval(input(\"Enter the Third Number\"))\n",
    "    avg = average(num1, num2, num3)\n",
    "except Exception as ex:\n",
    "    print(\"Error:\", ex)"
   ]
  },
  {
   "cell_type": "code",
   "execution_count": 18,
   "metadata": {},
   "outputs": [
    {
     "name": "stdout",
     "output_type": "stream",
     "text": [
      "Average of 12, 15, 18 = 15.0\n"
     ]
    }
   ],
   "source": [
    "# Average with default arguments\n",
    "\n",
    "def average(num1=12, num2=15, num3=18): \n",
    "    avg = round((num1 + num2+ num3) / 3, 2)\n",
    "    print(f\"Average of {num1}, {num2}, {num3} = {avg}\")\n",
    "\n",
    "  \n",
    "       \n",
    "avg = average()"
   ]
  },
  {
   "cell_type": "code",
   "execution_count": 50,
   "metadata": {},
   "outputs": [
    {
     "name": "stdout",
     "output_type": "stream",
     "text": [
      "10\n",
      "20\n"
     ]
    }
   ],
   "source": [
    "\n",
    "num=10\n",
    "\n",
    "def show(num):\n",
    "    print(globals()['num']) ##  Here I want to print global variable value\n",
    "    print(num)\n",
    "    \n",
    "show(20)"
   ]
  },
  {
   "cell_type": "code",
   "execution_count": 40,
   "metadata": {},
   "outputs": [
    {
     "name": "stdout",
     "output_type": "stream",
     "text": [
      "10 20 30\n"
     ]
    }
   ],
   "source": [
    "def m1():\n",
    "    return 10, 20, 30\n",
    "\n",
    "res1,res2,res3 = m1()\n",
    "\n",
    "print(res1, res2, res3)"
   ]
  },
  {
   "cell_type": "code",
   "execution_count": 8,
   "metadata": {
    "ExecuteTime": {
     "end_time": "2024-06-11T03:51:25.792247Z",
     "start_time": "2024-06-11T03:51:23.683409Z"
    }
   },
   "outputs": [
    {
     "name": "stdout",
     "output_type": "stream",
     "text": [
      "Input: 9, Output: Nine\n"
     ]
    }
   ],
   "source": [
    "def getDigitInWord(digit):\n",
    "    \n",
    "    if digit == 0:\n",
    "        return \"Zero\"\n",
    "    elif digit == 1:\n",
    "        return \"One\"\n",
    "    elif digit == 2:\n",
    "        return \"Two\"\n",
    "    elif digit == 3:\n",
    "        return \"Three\"\n",
    "    elif digit == 4:\n",
    "        return \"Four\"\n",
    "    elif digit == 5:\n",
    "        return \"Five\"\n",
    "    elif digit == 6:\n",
    "        return \"Six\"\n",
    "    elif digit == 7:\n",
    "        return \"Seven\"\n",
    "    elif digit == 8:\n",
    "        return \"Eight\"\n",
    "    elif digit == 9:\n",
    "        return \"Nine\"\n",
    "    else:\n",
    "        return \"Invalid input\"\n",
    "################################################\n",
    "        \n",
    "try:\n",
    "    digit = eval(input(\"Enter a Digit : \"))\n",
    "    res = getDigitInWord(digit)\n",
    "    print(f\"Input: {digit}, Output: {res}\")\n",
    "except Exception as ex:\n",
    "    print(\"Error : \", ex)"
   ]
  },
  {
   "cell_type": "code",
   "execution_count": 11,
   "metadata": {},
   "outputs": [
    {
     "name": "stdout",
     "output_type": "stream",
     "text": [
      "True\n"
     ]
    }
   ],
   "source": [
    "def isValid(value):\n",
    "    if(value != \"python\"):\n",
    "        raise ValueError(\"Invalid input\")    \n",
    "    \n",
    "    return True\n",
    "\n",
    "try:\n",
    "    print(isValid(\"python\"))\n",
    "except Exception as ex:\n",
    "    print(f\"{type(ex).__name__} :: {ex}\")\n",
    "    "
   ]
  },
  {
   "cell_type": "code",
   "execution_count": 1,
   "metadata": {
    "ExecuteTime": {
     "end_time": "2024-06-11T03:45:53.774670Z",
     "start_time": "2024-06-11T03:45:53.754141Z"
    }
   },
   "outputs": [
    {
     "name": "stdout",
     "output_type": "stream",
     "text": [
      "ApplicationException :: Invalid input\n"
     ]
    }
   ],
   "source": [
    "class ApplicationException(Exception):\n",
    "    def __init__(self, message): # Constructor\n",
    "        self.message = message\n",
    "        super().__init__(self, message)\n",
    "        \n",
    "##################################################\n",
    "\n",
    "def isValid(value):\n",
    "    if(value != \"python\"):\n",
    "        raise ApplicationException(\"Invalid input\")    \n",
    "    \n",
    "    return True\n",
    "\n",
    "################################################\n",
    "\n",
    "try:\n",
    "    print(isValid(\"p1ython\"))\n",
    "except Exception as ex:\n",
    "    print(f\"{type(ex).__name__} :: {ex.message}\")"
   ]
  },
  {
   "cell_type": "code",
   "execution_count": 3,
   "metadata": {},
   "outputs": [
    {
     "data": {
      "text/plain": [
       "'Hello DJ'"
      ]
     },
     "execution_count": 3,
     "metadata": {},
     "output_type": "execute_result"
    }
   ],
   "source": [
    "def m1():\n",
    "\n",
    "    res = m2()\n",
    "    \n",
    "    return res + \" DJ\";\n",
    "\n",
    "def m2():\n",
    "    \n",
    "    return \"Hello\"\n",
    "\n",
    "m1()"
   ]
  },
  {
   "cell_type": "code",
   "execution_count": 7,
   "metadata": {},
   "outputs": [
    {
     "name": "stdout",
     "output_type": "stream",
     "text": [
      "Performing division of 10 & 0\n",
      "Error:  division by zero\n"
     ]
    }
   ],
   "source": [
    "\n",
    "def add(num1, num2):\n",
    "    print(f\"Performing addition of {num1} & {num2}\")\n",
    "    return num1 + num2\n",
    "\n",
    "def sub(num1, num2):\n",
    "    print(f\"Performing subtraction of {num1} & {num2}\")\n",
    "    return num1 - num2\n",
    "\n",
    "def mul(num1, num2): \n",
    "    print(f\"Performing multiplication of {num1} & {num2}\")\n",
    "    return num1 * num2\n",
    "\n",
    "def div(num1, num2):\n",
    "    print(f\"Performing division of {num1} & {num2}\")\n",
    "    return num1 / num2\n",
    "\n",
    "\n",
    "def math(num1, num2, operation):\n",
    "    if operation < 1 or operation > 4:\n",
    "        return -1\n",
    "    if operation == 1:\n",
    "        return add(num1, num2)\n",
    "    elif operation == 2:\n",
    "        return sub(num1, num2)\n",
    "    elif operation == 3:\n",
    "        return mul(num1, num2)\n",
    "    else:\n",
    "        return div(num1, num2)\n",
    "\n",
    "\n",
    "try:\n",
    "    number_1 = eval(input(\"Enter First Number : \"))\n",
    "    number_2 = eval(input(\"Enter Second Number : \"))\n",
    "    op_type = eval(input(\"Enter the operation add[1], sub[2], mul[3], div[4] : \"))\n",
    "    output = math(number_1, number_2, op_type)\n",
    "    print(f\"Output : {output}\")\n",
    "except Exception as ex:\n",
    "    print(\"Error: \", ex)"
   ]
  },
  {
   "cell_type": "code",
   "execution_count": 6,
   "metadata": {},
   "outputs": [
    {
     "name": "stdout",
     "output_type": "stream",
     "text": [
      "C:\\Users\\Happy\\AppData\\Local\\Microsoft\\WindowsApps\\PythonSoftwareFoundation.Python.3.12_qbz5n2kfra8p0\\python.exe\n"
     ]
    }
   ],
   "source": [
    "import sys\n",
    "print(sys.executable) "
   ]
  },
  {
   "cell_type": "code",
   "execution_count": 2,
   "metadata": {},
   "outputs": [
    {
     "name": "stdout",
     "output_type": "stream",
     "text": [
      "30\n"
     ]
    }
   ],
   "source": [
    "total = 0\n",
    "\n",
    "def add(value):\n",
    "    global total\n",
    "    total = total + value\n",
    "    return total\n",
    "\n",
    "\n",
    "add(10)\n",
    "add(20)\n",
    "\n",
    "print(total)"
   ]
  },
  {
   "cell_type": "code",
   "execution_count": 6,
   "metadata": {},
   "outputs": [
    {
     "name": "stdout",
     "output_type": "stream",
     "text": [
      "3\n"
     ]
    }
   ],
   "source": [
    "def add(a: int, b: int) -> int :\n",
    "    return a + b\n",
    "\n",
    "print(add(1, 2))"
   ]
  },
  {
   "cell_type": "code",
   "execution_count": 30,
   "metadata": {},
   "outputs": [
    {
     "name": "stdout",
     "output_type": "stream",
     "text": [
      "0 1 2 3 4 =========\n",
      "0\n",
      "1\n",
      "2\n",
      "3\n",
      "4\n"
     ]
    }
   ],
   "source": [
    "#Approach-1\n",
    "for i in range(5):\n",
    "    print(i, end = \" \")\n",
    "\n",
    "\n",
    "# Approach-2\n",
    "for i in range(0, 5):\n",
    "    print(i)"
   ]
  },
  {
   "cell_type": "code",
   "execution_count": 44,
   "metadata": {},
   "outputs": [
    {
     "name": "stdout",
     "output_type": "stream",
     "text": [
      "square of 7 = 49\n",
      "square of 4 = 16\n",
      "square of 5 = 25\n",
      "square of 5 = 25\n",
      "square of 3 = 9\n",
      "square of 9 = 81\n"
     ]
    }
   ],
   "source": [
    "import random\n",
    "\n",
    "def sqrt(num): \n",
    "    return (f\"square of {num} = {num * num}\")\n",
    "    \n",
    "for i in range(6):\n",
    "    num = random.randint(1, 10)\n",
    "    res = sqrt(num)\n",
    "    print(res)\n",
    "\n"
   ]
  },
  {
   "cell_type": "code",
   "execution_count": 46,
   "metadata": {},
   "outputs": [
    {
     "name": "stdout",
     "output_type": "stream",
     "text": [
      "11 is odd number\n",
      "12 is even number\n",
      "13 is odd number\n",
      "14 is even number\n",
      "15 is odd number\n",
      "16 is even number\n",
      "17 is odd number\n",
      "18 is even number\n",
      "19 is odd number\n",
      "20 is even number\n"
     ]
    }
   ],
   "source": [
    "for i in range(11,21):\n",
    "    if i % 2 == 0:\n",
    "        print(f\"{i} is even number\")\n",
    "    else: \n",
    "         print(f\"{i} is odd number\")"
   ]
  },
  {
   "cell_type": "code",
   "execution_count": 48,
   "metadata": {},
   "outputs": [
    {
     "name": "stdout",
     "output_type": "stream",
     "text": [
      "12 is even number\n",
      "25 is odd number\n",
      "36 is even number\n",
      "54 is even number\n",
      "69 is odd number\n"
     ]
    }
   ],
   "source": [
    "for i in range(5):\n",
    "    num = eval(input(\"Enter the number ::\"))\n",
    "    if num % 2 == 0:\n",
    "        print(f\"{num} is even number\")\n",
    "    else: \n",
    "         print(f\"{num} is odd number\")"
   ]
  },
  {
   "cell_type": "code",
   "execution_count": 8,
   "metadata": {},
   "outputs": [
    {
     "name": "stdout",
     "output_type": "stream",
     "text": [
      "0 1 2 3 4 "
     ]
    }
   ],
   "source": [
    "# Skip index in forward Direction\n",
    "# for i in range(0, 20, 2):\n",
    "#      print(i)\n",
    "\n",
    "# Skip index in backword Direction\n",
    "for i in range(0, 5, 1):\n",
    "     print(i, end=' ')"
   ]
  },
  {
   "cell_type": "code",
   "execution_count": 26,
   "metadata": {},
   "outputs": [
    {
     "name": "stdout",
     "output_type": "stream",
     "text": [
      "1 is divisor of 50\n",
      "2 is divisor of 50\n",
      "5 is divisor of 50\n",
      "10 is divisor of 50\n",
      "25 is divisor of 50\n",
      "50 is divisor of 50\n",
      "No of divisors are 6\n"
     ]
    }
   ],
   "source": [
    "def findDivisor(num):\n",
    "    count = 0\n",
    "    for i in range(1, num + 1):\n",
    "        if num % i == 0:\n",
    "            count = count + 1\n",
    "            print(f\"{i} is divisor of {num}\")\n",
    "    print(f\"No of divisors are {count}\")\n",
    "            \n",
    "findDivisor(50)"
   ]
  },
  {
   "cell_type": "code",
   "execution_count": 22,
   "metadata": {},
   "outputs": [
    {
     "name": "stdout",
     "output_type": "stream",
     "text": [
      "Sum of [ 1 2 3 4 5 ] =  15\n"
     ]
    }
   ],
   "source": [
    "def sum(num):\n",
    "    sum = 0\n",
    "    msg = \"[ \"\n",
    "    for i in range(1, num + 1):\n",
    "        sum = sum + i\n",
    "        msg = msg + str(i) + \" \"\n",
    "    msg = msg + \"]\"\n",
    "    return sum, msg\n",
    "\n",
    "try:\n",
    "    sum, msg = sum(eval(input(\"Enter a num: \")))\n",
    "except Exception in ex:\n",
    "    print(\"Error: \", ex)\n",
    "\n",
    "print(f\"Sum of {msg} =  {sum}\")\n"
   ]
  },
  {
   "cell_type": "code",
   "execution_count": 25,
   "metadata": {},
   "outputs": [
    {
     "name": "stdout",
     "output_type": "stream",
     "text": [
      "False, None, True, and, as, assert, async, await, break, class, continue, def, del, elif, else, except, finally, for, from, global, if, import, in, is, lambda, nonlocal, not, or, pass, raise, return, try, while, with, yield, "
     ]
    }
   ],
   "source": [
    "import keyword\n",
    "\n",
    "for i in keyword.kwlist:\n",
    "    print(i, end=', ')"
   ]
  },
  {
   "cell_type": "code",
   "execution_count": 27,
   "metadata": {},
   "outputs": [
    {
     "name": "stdout",
     "output_type": "stream",
     "text": [
      "No of divisors are 6\n"
     ]
    }
   ],
   "source": [
    "def findDivisor(num):\n",
    "    count = 0\n",
    "    for i in range(1, num + 1):\n",
    "        if num % i == 0:\n",
    "            count = count + 1\n",
    "    return count\n",
    "            \n",
    "count = findDivisor(50)\n",
    "print(f\"No of divisors are {count}\")"
   ]
  },
  {
   "cell_type": "code",
   "execution_count": 2,
   "metadata": {},
   "outputs": [
    {
     "name": "stdout",
     "output_type": "stream",
     "text": [
      "Found 20\n"
     ]
    }
   ],
   "source": [
    "def findNum(num):\n",
    "    for i in range(100):\n",
    "        if i == num :\n",
    "            print(f\"Found {num}\")\n",
    "            break\n",
    "    \n",
    "findNum(20)"
   ]
  },
  {
   "cell_type": "code",
   "execution_count": 8,
   "metadata": {},
   "outputs": [
    {
     "name": "stdout",
     "output_type": "stream",
     "text": [
      "Lost with num1: 2 & num2: 10, chances left 4\n",
      "Lost with num1: 3 & num2: 2, chances left 3\n",
      "Lost with num1: 6 & num2: 1, chances left 2\n",
      "Lost with num1: 5 & num2: 3, chances left 1\n",
      "Lost with num1: 6 & num2: 5, chances left 0\n",
      "Account has blocked for 24 hrs\n"
     ]
    }
   ],
   "source": [
    "import random\n",
    "def play():\n",
    "    try:\n",
    "        failure_count = 0\n",
    "        for  i  in range(6):\n",
    "            if failure_count == 5 :\n",
    "                print(\"Account has blocked for 24 hrs\")\n",
    "                break\n",
    "            num1 = eval(input(\"Enter a digit : \"))\n",
    "            num2 = random.randint(1,10)\n",
    "            if num1 != num2:\n",
    "                failure_count = failure_count + 1\n",
    "                print(f\"Lost with num1: {num1} & num2: {num2}, chances left {5 - failure_count}\")\n",
    "            else:\n",
    "                print(f\"Win with num1: {num1} & num2: {num2}\")\n",
    "                break;\n",
    "    except Exception as ex:\n",
    "        print(f\"Error Occurred: {ex}\")\n",
    "\n",
    "\n",
    "play()"
   ]
  },
  {
   "cell_type": "code",
   "execution_count": 13,
   "metadata": {},
   "outputs": [
    {
     "name": "stdout",
     "output_type": "stream",
     "text": [
      "p y t h o n Hello\n"
     ]
    }
   ],
   "source": [
    "name = \"python\"\n",
    "\n",
    "for i in name:\n",
    "    print(i, end= \" \") # name = \"python\"\n",
    "    \n",
    "    \n",
    "if(\"t\" in name):\n",
    "    print(\"Hello\")\n"
   ]
  },
  {
   "cell_type": "code",
   "execution_count": 17,
   "metadata": {},
   "outputs": [
    {
     "name": "stdout",
     "output_type": "stream",
     "text": [
      "65\n",
      "A\n",
      "A: 65\n",
      "B: 66\n",
      "C: 67\n",
      "D: 68\n",
      "E: 69\n",
      "F: 70\n",
      "G: 71\n",
      "H: 72\n",
      "I: 73\n",
      "J: 74\n",
      "K: 75\n",
      "L: 76\n",
      "M: 77\n",
      "N: 78\n",
      "O: 79\n",
      "P: 80\n",
      "Q: 81\n",
      "R: 82\n",
      "S: 83\n",
      "T: 84\n",
      "U: 85\n",
      "V: 86\n",
      "W: 87\n",
      "X: 88\n",
      "Y: 89\n",
      "Z: 90\n"
     ]
    }
   ],
   "source": [
    "import string\n",
    "print(ord('A')) # 65\n",
    "print(chr(65)) # A\n",
    "\n",
    "for i in string.ascii_uppercase:\n",
    "    print(f\"{i}: {ord(i)}\")"
   ]
  },
  {
   "cell_type": "code",
   "execution_count": 19,
   "metadata": {},
   "outputs": [
    {
     "name": "stdout",
     "output_type": "stream",
     "text": [
      "0\n",
      "1\n",
      "2\n",
      "3\n",
      "4\n",
      "5\n"
     ]
    }
   ],
   "source": [
    "count = 0\n",
    "\n",
    "while(True):\n",
    "    print(count)\n",
    "    count = count + 1\n",
    "    if count > 5:\n",
    "        break\n",
    "    "
   ]
  },
  {
   "cell_type": "code",
   "execution_count": 10,
   "metadata": {},
   "outputs": [
    {
     "name": "stdout",
     "output_type": "stream",
     "text": [
      "1 2 3 4 5 6 7 8 9 \n",
      "1 2 3 4 5 6 7 8 9 \n",
      "1 2 3 4 5 6 7 8 9 "
     ]
    }
   ],
   "source": [
    "# Case-1\n",
    "for i in range(1,10):\n",
    "    print(i, end = \" \")\n",
    "\n",
    "print() # new line\n",
    "\n",
    "\n",
    "\n",
    "# Case-2\n",
    "i = 1\n",
    "while i < 10:\n",
    "   print(i, end = \" \")\n",
    "   i = i +1\n",
    "\n",
    "\n",
    "print() # new line\n",
    "\n",
    "# Case-3\n",
    "count = 1\n",
    "while(True):\n",
    "    print(count, end = \" \")\n",
    "    count = count + 1\n",
    "    if count >= 10:\n",
    "        break\n",
    "    \n",
    " \n"
   ]
  },
  {
   "cell_type": "code",
   "execution_count": null,
   "metadata": {},
   "outputs": [],
   "source": []
  }
 ],
 "metadata": {
  "kernelspec": {
   "display_name": "Python 3",
   "language": "python",
   "name": "python3"
  },
  "language_info": {
   "codemirror_mode": {
    "name": "ipython",
    "version": 3
   },
   "file_extension": ".py",
   "mimetype": "text/x-python",
   "name": "python",
   "nbconvert_exporter": "python",
   "pygments_lexer": "ipython3",
   "version": "3.12.3"
  }
 },
 "nbformat": 4,
 "nbformat_minor": 2
}
