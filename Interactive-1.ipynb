{
 "cells": [
  {
   "cell_type": "code",
   "execution_count": 23,
   "metadata": {},
   "outputs": [
    {
     "name": "stdout",
     "output_type": "stream",
     "text": [
      "Average of 12, 18, 19 = 16.33\n"
     ]
    }
   ],
   "source": [
    "\n",
    "# Average without arguments\n",
    "\n",
    "def average(): \n",
    "    try:\n",
    "        num1 = eval(input(\"Enter the First Number\"))\n",
    "        num2 = eval(input(\"Enter the Second Number\"))\n",
    "        num3 = eval(input(\"Enter the Third Number\"))\n",
    "        avg = (num1 + num2+ num3) / 3\n",
    "        print(f\"Average of {num1}, {num2}, {num3} = {round(avg, 2)}\")\n",
    "    except Exception as ex: \n",
    "        print(\"Error: \",ex)\n",
    "    \n",
    "    \n",
    "average()"
   ]
  },
  {
   "cell_type": "code",
   "execution_count": 19,
   "metadata": {},
   "outputs": [
    {
     "name": "stdout",
     "output_type": "stream",
     "text": [
      "Error: name 'python' is not defined\n"
     ]
    }
   ],
   "source": [
    "# Average with arguments\n",
    "\n",
    "def average(num1, num2, num3): \n",
    "    avg = round((num1 + num2+ num3) / 3, 2)\n",
    "    print(f\"Average of {num1}, {num2}, {num3} = {avg}\")\n",
    "\n",
    "  \n",
    " \n",
    "try:        \n",
    "    num1 = eval(input(\"Enter the First Number\"))\n",
    "    num2 = eval(input(\"Enter the Second Number\"))\n",
    "    num3 = eval(input(\"Enter the Third Number\"))\n",
    "    avg = average(num1, num2, num3)\n",
    "except Exception as ex:\n",
    "    print(\"Error:\", ex)"
   ]
  },
  {
   "cell_type": "code",
   "execution_count": 18,
   "metadata": {},
   "outputs": [
    {
     "name": "stdout",
     "output_type": "stream",
     "text": [
      "Average of 12, 15, 18 = 15.0\n"
     ]
    }
   ],
   "source": [
    "# Average with default arguments\n",
    "\n",
    "def average(num1=12, num2=15, num3=18): \n",
    "    avg = round((num1 + num2+ num3) / 3, 2)\n",
    "    print(f\"Average of {num1}, {num2}, {num3} = {avg}\")\n",
    "\n",
    "  \n",
    "       \n",
    "avg = average()"
   ]
  },
  {
   "cell_type": "code",
   "execution_count": 30,
   "metadata": {},
   "outputs": [
    {
     "name": "stdout",
     "output_type": "stream",
     "text": [
      "10\n"
     ]
    }
   ],
   "source": [
    "\n",
    "num=10\n",
    "\n",
    "def show(num):\n",
    "    print(globals()['num']) ##  Here I want to print global variable value\n",
    "    print(num)\n",
    "    \n",
    "show(20)"
   ]
  },
  {
   "cell_type": "code",
   "execution_count": 39,
   "metadata": {},
   "outputs": [
    {
     "ename": "AttributeError",
     "evalue": "'int' object has no attribute 'm2'",
     "output_type": "error",
     "traceback": [
      "\u001b[1;31m---------------------------------------------------------------------------\u001b[0m",
      "\u001b[1;31mAttributeError\u001b[0m                            Traceback (most recent call last)",
      "Cell \u001b[1;32mIn[39], line 7\u001b[0m\n\u001b[0;32m      4\u001b[0m     \u001b[38;5;28;01mreturn\u001b[39;00m \u001b[38;5;241m10\u001b[39m, \u001b[38;5;241m20\u001b[39m, \u001b[38;5;241m30\u001b[39m\n\u001b[0;32m      6\u001b[0m res1,res2,res3 \u001b[38;5;241m=\u001b[39m m1()\n\u001b[1;32m----> 7\u001b[0m \u001b[43mres1\u001b[49m\u001b[38;5;241;43m.\u001b[39;49m\u001b[43mm2\u001b[49m()\n\u001b[0;32m      8\u001b[0m \u001b[38;5;28mprint\u001b[39m(res1, res2, res3)\n",
      "\u001b[1;31mAttributeError\u001b[0m: 'int' object has no attribute 'm2'"
     ]
    }
   ],
   "source": [
    "def m1():\n",
    "    return 10, 20, 30\n",
    "\n",
    "res1,res2,res3 = m1()\n",
    "\n",
    "print(res1, res2, res3)"
   ]
  },
  {
   "cell_type": "markdown",
   "metadata": {},
   "source": []
  }
 ],
 "metadata": {
  "kernelspec": {
   "display_name": "Python 3",
   "language": "python",
   "name": "python3"
  },
  "language_info": {
   "codemirror_mode": {
    "name": "ipython",
    "version": 3
   },
   "file_extension": ".py",
   "mimetype": "text/x-python",
   "name": "python",
   "nbconvert_exporter": "python",
   "pygments_lexer": "ipython3",
   "version": "3.12.3"
  }
 },
 "nbformat": 4,
 "nbformat_minor": 2
}
